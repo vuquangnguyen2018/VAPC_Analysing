{
 "cells": [
  {
   "cell_type": "code",
   "execution_count": null,
   "metadata": {},
   "outputs": [],
   "source": [
    "import numpy as np\n",
    "import pandas as pd\n",
    "import openpyxl\n",
    "import os \n",
    "import xlrd\n",
    "import datetime\n",
    "# Setting Directory\n",
    "os.chdir('C:/Users/TAM/Documents/Vu Quang Nguyen/VACP/')"
   ]
  },
  {
   "cell_type": "code",
   "execution_count": null,
   "metadata": {},
   "outputs": [],
   "source": [
    "#BAN HANG\n",
    "URL_ban=\"../VACP/Export BRAVO/Sổ chi tiết bán hàng.xls\"  \n",
    "data_banhang=pd.read_excel(URL_ban,skipfooter=1,header=6).rename(\n",
    "    columns={\n",
    "        \"Unnamed: 0\":\"Ngày bán\",\n",
    "        \"Unnamed: 1\":\"ID Order\",\n",
    "        \"Unnamed: 2\":\"ID Khách hàng\",\n",
    "        \"Unnamed: 3\":\"Hãng SX\",\n",
    "        \"Unnamed: 5\":\"ID\",\n",
    "        \"Unnamed: 7\":\"Tên hàng\",\n",
    "        \"Tiền bán\":\"Thành tiền\",\n",
    "        \"Unnamed: 19\":\"Nhân viên\",\n",
    "        \"Unnamed: 22\":\"ID Nhóm hàng\"\n",
    "\n",
    "    }\n",
    ")\n",
    "data_banhang=data_banhang[[\"Ngày bán\",\"ID Order\",\"ID Khách hàng\",\"ID Nhóm hàng\",\"Nhân viên\",\"ID\",\"Tên hàng\",\"Số lượng\",\"Giá bán\",\"Thành tiền\"]]\n",
    "\n",
    "\n",
    "#CONG NO\n",
    "data_congno=pd.read_excel(\"../VACP/Export BRAVO/Báo cáo công nợ phải thu theo hạn thanh toán.xls\",skipfooter=1,header=6).rename(\n",
    "    columns={\n",
    "        \"Mã\":\"ID Khách hàng\",\n",
    "        \"Số\":\"ID Order\",\n",
    "        \"Unnamed: 15\":\"Tiền thu được\"\n",
    "    }\n",
    ").dropna(subset=[\"Ngày\",\"ID Order\"]).reset_index(drop=True)\n",
    "\n",
    "\n",
    "# Data NHẬP MUA BÁN\n",
    "data_nhap_mua_ban=pd.read_excel(\"../VACP/Input & Export Campaign/Report_Nhap_Mua_Ban.xlsx\",sheet_name=\"Nhập Mua Bán\",usecols=\"B,F:G,S:V\")\n",
    "\n",
    "# DIM_Customer\n",
    "dim_customer=pd.read_excel(\"../VACP/Export BRAVO/Data_KH_VAPC.xlsx\",sheet_name='Data_KH')\n"
   ]
  },
  {
   "cell_type": "code",
   "execution_count": null,
   "metadata": {},
   "outputs": [],
   "source": [
    "#Tổng hợp đơn hàng và tính Margin, Tiền thu được\n",
    "data_banhang_full=data_banhang.merge(data_nhap_mua_ban[[\"ID\",\"Giá vốn\"]],on=\"ID\",how='left')\n",
    "# Tính Profit\n",
    "data_banhang_full[\"Profit\"]=(data_banhang_full[\"Thành tiền\"]-data_banhang_full[\"Giá vốn\"]*data_banhang_full[\"Số lượng\"]) \n",
    "# Tính margin \n",
    "data_banhang_full[\"Margin\"]=data_banhang_full['Profit']/data_banhang_full[\"Thành tiền\"]\n",
    "# Tổng hợp\n",
    "data_banhang_full=data_banhang_full.groupby([\"Ngày bán\",\"ID Order\",\"ID Khách hàng\"],as_index=False).agg({\n",
    "            'Thành tiền':'sum',\n",
    "            'Profit':'sum',\n",
    "            'Margin':'mean'})\n",
    "# Import Công nợ\n",
    "\n",
    "data_banhang_full=data_banhang_full.merge(data_congno[[\"ID Order\",\"ID Khách hàng\",\"Tiền thu được\"]],on=['ID Order','ID Khách hàng'],how='left').sort_values([\"Ngày bán\",\"Tiền thu được\"],ascending=False).reset_index(drop=True)\n",
    "\n",
    "data_banhang_full['Tiền thu được'] = data_banhang_full['Tiền thu được'].replace(np.nan, 0)\n",
    "\n",
    "# Khả năng thanh toán = Tiền thu được / Công nợ\n",
    "data_banhang_full[\"Cash ratio\"]=data_banhang_full[\"Tiền thu được\"]/(data_banhang_full[\"Thành tiền\"])\n",
    "#SHOW\n",
    "\n",
    "data_banhang_full.head()\n",
    "\n"
   ]
  },
  {
   "cell_type": "code",
   "execution_count": null,
   "metadata": {},
   "outputs": [],
   "source": [
    "data_banhang_full.loc[(data_banhang_full[\"ID Khách hàng\"]=='CHUBASG') & (data_banhang_full[\"Ngày bán\"].dt.strftime(\"%Y-%m-%d\")=='2022-06-17')]"
   ]
  },
  {
   "cell_type": "code",
   "execution_count": null,
   "metadata": {},
   "outputs": [],
   "source": [
    "# Tổng hợp Doanh số theo ngày\n",
    "data_sale=data_banhang_full.groupby([\"Ngày bán\",\"ID Khách hàng\"],as_index=False).agg({\n",
    "            'Thành tiền':'sum',\n",
    "            'Tiền thu được':'sum',\n",
    "            'Profit':'sum',\n",
    "            'Margin':'mean',\n",
    "            'Cash ratio':'mean',\n",
    "            \"ID Order\": lambda x: x.nunique()}).rename(columns={\"ID Order\":\"Tổng đơn hàng\",\"Thành tiền\":\"Doanh số\"}).reset_index(drop=True)\n",
    "\n",
    "# data_sale=data_sale.merge(dim_customer[[\"ID Khách hàng\",\"Phân hạng\",\"Nhân viên phụ trách\",\"Tên khách hàng\",\"Tỉnh\",\"Vùng miền\"]],on=\"ID Khách hàng\",how=\"left\")\n",
    "data_sale.head()"
   ]
  },
  {
   "cell_type": "code",
   "execution_count": null,
   "metadata": {},
   "outputs": [],
   "source": [
    "# Lọc mẫu dữ liệu\n",
    "data_sale.loc[(data_sale['ID Khách hàng']=='ANHCUONG') & (data_sale[\"Ngày bán\"].dt.strftime('%Y-%m-%d') == '2022-11-19')]"
   ]
  },
  {
   "cell_type": "code",
   "execution_count": null,
   "metadata": {},
   "outputs": [],
   "source": [
    "data_sale.loc[(data_sale[\"ID Khách hàng\"]=='TRITIN') & (data_sale[\"Ngày bán\"].dt.strftime(\"%Y-%m-%d\")=='2022-07-01')]"
   ]
  },
  {
   "cell_type": "code",
   "execution_count": null,
   "metadata": {},
   "outputs": [],
   "source": [
    "# Data Sale năm 2022\n",
    "\n",
    "data_sale_total=data_sale.loc[data_sale[\"Ngày bán\"].dt.strftime(\"%Y\")=='2022'].groupby(\"ID Khách hàng\",as_index=False).agg({\n",
    "    'Doanh số':'sum',\n",
    "    'Tiền thu được':'sum',\n",
    "    'Profit':'sum',\n",
    "    'Tổng đơn hàng':'sum',\n",
    "    'Cash ratio':'mean'      \n",
    "}).sort_values([\"Doanh số\",\"Profit\"],ascending=False).reset_index(drop=True)\n",
    "\n",
    "data_sale_total[\"Gross Profit Margin\"]=data_sale_total[\"Profit\"]/data_sale_total[\"Doanh số\"]\n",
    "\n",
    "\n",
    "data_sale_total"
   ]
  },
  {
   "cell_type": "code",
   "execution_count": null,
   "metadata": {},
   "outputs": [],
   "source": [
    "data_sale_filter=data_sale_total.query('`Gross Profit Margin`>=0.02 & `Tổng đơn hàng`>=10 & `Cash ratio`>=0.7').sort_values([\"Doanh số\",\"Gross Profit Margin\"],ascending=False).reset_index(drop=True)\n",
    "data_sale_filter=data_sale_filter.merge(dim_customer[[\"ID Khách hàng\",\"Phân hạng\",\"Nhân viên phụ trách\",\"Tên khách hàng\",\"Tỉnh\",\"Vùng miền\"]],on=\"ID Khách hàng\",how=\"left\")\n",
    "data_sale_filter=data_sale_filter.loc[0:149,:]\n",
    "data_sale_filter"
   ]
  },
  {
   "cell_type": "code",
   "execution_count": null,
   "metadata": {},
   "outputs": [],
   "source": [
    "# EXPORT FILE DATA\n",
    "with pd.ExcelWriter('../VACP/Input & Export Campaign/Bao_Cao_Doanh_So_Khach_Hang.xlsx') as writer:\n",
    "    data_sale.to_excel(writer,sheet_name=\"Sales Daily\")\n",
    "    data_banhang_full.to_excel(writer,sheet_name=\"Data\")\n",
    "    data_sale_filter.to_excel(writer,sheet_name=\"Top 150\")\n",
    "    # data_report.to_excel(writer,sheet_name=\"Tổng hợp\")\n",
    "    # data_danhmuchanghoa.to_excel(writer,sheet_name=\"Danh mục hàng\")\n",
    "    # count_danh_muc.to_excel(writer,sheet_name=\"đến số lượng\")\n"
   ]
  }
 ],
 "metadata": {
  "kernelspec": {
   "display_name": "Python 3.10.7 64-bit",
   "language": "python",
   "name": "python3"
  },
  "language_info": {
   "codemirror_mode": {
    "name": "ipython",
    "version": 3
   },
   "file_extension": ".py",
   "mimetype": "text/x-python",
   "name": "python",
   "nbconvert_exporter": "python",
   "pygments_lexer": "ipython3",
   "version": "3.10.7"
  },
  "orig_nbformat": 4,
  "vscode": {
   "interpreter": {
    "hash": "f6cc984e88e62e349a3d36e7a57a515520ae12055cc10527abcd013d74ecd266"
   }
  }
 },
 "nbformat": 4,
 "nbformat_minor": 2
}
