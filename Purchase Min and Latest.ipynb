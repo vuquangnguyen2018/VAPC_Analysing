{
 "cells": [
  {
   "cell_type": "code",
   "execution_count": null,
   "metadata": {},
   "outputs": [],
   "source": [
    "import imp\n",
    "import numpy as np\n",
    "import pandas as pd\n",
    "import openpyxl\n",
    "import os \n",
    "import xlrd\n",
    "# Setting Directory\n",
    "os.chdir('C:/Users/TAM/Documents/Vu Quang Nguyen/VACP/')"
   ]
  },
  {
   "cell_type": "code",
   "execution_count": null,
   "metadata": {},
   "outputs": [],
   "source": [
    "# MUA HANG\n",
    "URL_mua=\"../VACP/Export BRAVO/Sổ chi tiết mua hàng (2).xls\"\n",
    "data_muahang=pd.read_excel(URL_mua,usecols=\"A,C,F,G,I:J\",skipfooter=1,header=5).rename(columns={\n",
    "                                \"Unnamed: 0\":\"Ngày nhập\",\n",
    "                                \"Unnamed: 2\":\"Nhà cung cấp\",\n",
    "                                \"Unnamed: 5\":\"ID\",\n",
    "                                \"Unnamed: 6\":\"Tên hàng\",\n",
    "                                \"Số lượng\":\"Tổng nhập\", \n",
    "                                \"Đơn giá\":\"Giá nhập\"\n",
    "                                })\n",
    "\n",
    "#BAN HANG\n",
    "URL_ban=\"../VACP/Export BRAVO/Sổ chi tiết bán hàng.xls\"  \n",
    "data_banhang=pd.read_excel(URL_ban,usecols=\"A,F,K,M\",skipfooter=1,header=6).rename(columns={\n",
    "                                \"Unnamed: 5\":\"ID\",\n",
    "                                \"Unnamed: 0\":\"Ngày bán\",\n",
    "                                })"
   ]
  },
  {
   "cell_type": "code",
   "execution_count": null,
   "metadata": {},
   "outputs": [],
   "source": [
    "data_banhang"
   ]
  },
  {
   "cell_type": "code",
   "execution_count": null,
   "metadata": {},
   "outputs": [],
   "source": [
    "data_muahang"
   ]
  },
  {
   "cell_type": "code",
   "execution_count": null,
   "metadata": {},
   "outputs": [],
   "source": [
    "#Mua hàng giá nhập nhỏ nhất\n",
    "min_mua_hang=data_muahang.groupby([\"ID\"])[\"Giá nhập\"].min()\n",
    "data_muahang_min=data_muahang.merge(min_mua_hang,on=\"ID\",how=\"left\",suffixes=('', '_min'))\n",
    "data_muahang_min=data_muahang_min[data_muahang_min[\"Giá nhập\"]==data_muahang_min[\"Giá nhập_min\"]\n",
    "                        ].drop('Giá nhập_min',axis=1).drop_duplicates(subset=\"ID\",keep='first').reset_index(drop=True).rename(\n",
    "                        columns={\n",
    "                            \"Ngày nhập\":\"Ngày nhập MIN\",\n",
    "                            \"Nhà cung cấp\":\"Nhà cung cấp MIN\",\n",
    "                            \"Tổng nhập\":\"Tổng nhập MIN\",\n",
    "                            \"Giá nhập\":\"Giá nhập MIN\"\n",
    "                        })\n",
    "\n"
   ]
  },
  {
   "cell_type": "code",
   "execution_count": null,
   "metadata": {},
   "outputs": [],
   "source": [
    "#Mua hàng gần đây\n",
    "max_date_muahang=data_muahang.groupby([\"ID\"])[\"Ngày nhập\"].max()\n",
    "data_muahang_latest=data_muahang.merge(max_date_muahang,on=\"ID\",how=\"left\",suffixes=('', '_max'))\n",
    "data_muahang_latest=data_muahang_latest[data_muahang_latest[\"Ngày nhập\"]==data_muahang_latest[\"Ngày nhập_max\"]\n",
    "                ].drop('Ngày nhập_max',axis=1).drop_duplicates(subset=\"ID\",keep='first').reset_index(drop=True).rename(\n",
    "                        columns={\n",
    "                            \"Ngày nhập\":\"Ngày nhập gần đây\",\n",
    "                            \"Nhà cung cấp\":\"Nhà cung cấp gần đây\",\n",
    "                            \"Tổng nhập\":\"Tổng nhập gần đây\",\n",
    "                            \"Giá nhập\":\"Giá nhập gần đây\"\n",
    "                        }\n",
    "                    )\n",
    " "
   ]
  },
  {
   "cell_type": "code",
   "execution_count": null,
   "metadata": {},
   "outputs": [],
   "source": [
    "#Bán hàng gần đây\n",
    "max_date_banhang=data_banhang.groupby([\"ID\"])[\"Ngày bán\"].max()\n",
    "data_banhang_latest=data_banhang.merge(max_date_banhang,on=\"ID\",how=\"left\",suffixes=('', '_max'))\n",
    "data_banhang_latest=data_banhang_latest[data_banhang_latest[\"Ngày bán\"]==data_banhang_latest[\"Ngày bán_max\"]\n",
    "                    ].drop('Ngày bán_max',axis=1).drop_duplicates(subset=\"ID\",keep='first').reset_index(drop=True).rename(\n",
    "                        columns={\n",
    "                            \"Ngày bán\":\"Ngày bán gần đây\",\n",
    "                            \"Giá bán giảm\":\"Giá bán gần đây\"\n",
    "                        }\n",
    "                    )\n"
   ]
  },
  {
   "cell_type": "code",
   "execution_count": null,
   "metadata": {},
   "outputs": [],
   "source": [
    "data_export=data_muahang_latest.merge(data_muahang_min,on='ID',how='left').drop('Tên hàng_y',axis=1).merge(data_banhang_latest,on='ID',how='left').drop_duplicates(subset=\"ID\",keep='first').reset_index(drop=True).rename(\n",
    "    columns={\"Tên hàng_x\":\"Tên hàng\"})\n",
    "data_export"
   ]
  },
  {
   "cell_type": "code",
   "execution_count": null,
   "metadata": {},
   "outputs": [],
   "source": [
    "# EXPORT FILE DATA\n",
    "with pd.ExcelWriter('../VACP/Input & Export Campaign/Purchase_Min_Latest.xlsx') as writer:\n",
    "    data_export.to_excel(writer,sheet_name=\"Min & Latest\")\n",
    "    # data_report.to_excel(writer,sheet_name=\"Tổng hợp\")\n",
    "    # data_danhmuchanghoa.to_excel(writer,sheet_name=\"Danh mục hàng\")\n",
    "    # count_danh_muc.to_excel(writer,sheet_name=\"đến số lượng\")\n"
   ]
  }
 ],
 "metadata": {
  "kernelspec": {
   "display_name": "Python 3.10.7 64-bit",
   "language": "python",
   "name": "python3"
  },
  "language_info": {
   "codemirror_mode": {
    "name": "ipython",
    "version": 3
   },
   "file_extension": ".py",
   "mimetype": "text/x-python",
   "name": "python",
   "nbconvert_exporter": "python",
   "pygments_lexer": "ipython3",
   "version": "3.10.7"
  },
  "orig_nbformat": 4,
  "vscode": {
   "interpreter": {
    "hash": "f6cc984e88e62e349a3d36e7a57a515520ae12055cc10527abcd013d74ecd266"
   }
  }
 },
 "nbformat": 4,
 "nbformat_minor": 2
}
