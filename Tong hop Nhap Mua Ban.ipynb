{
 "cells": [
  {
   "cell_type": "code",
   "execution_count": 1,
   "metadata": {},
   "outputs": [],
   "source": [
    "import numpy as np\n",
    "import pandas as pd\n",
    "import openpyxl\n",
    "import os \n",
    "import xlrd\n",
    "\n",
    "os.chdir('C:/Users/TAM/Documents/Vu Quang Nguyen/VACP')\n"
   ]
  },
  {
   "cell_type": "code",
   "execution_count": 2,
   "metadata": {},
   "outputs": [
    {
     "name": "stderr",
     "output_type": "stream",
     "text": [
      "C:\\Users\\TAM\\AppData\\Local\\Temp\\ipykernel_14056\\4109355123.py:3: FutureWarning: Defining usecols with out of bounds indices is deprecated and will raise a ParserError in a future version.\n",
      "  data_nhapxuatton=pd.read_excel(\"../VACP/Export BRAVO/Tổng hợp Nhập - Xuất - Tồn YTD.xls\",\n"
     ]
    }
   ],
   "source": [
    "\n",
    "# NHẬP - XUẤT - TỒN & EXCHANGE & GIÁ VỐN & MUA HÀNG & BÁN HÀNG\n",
    "\n",
    "data_nhapxuatton=pd.read_excel(\"../VACP/Export BRAVO/Tổng hợp Nhập - Xuất - Tồn YTD.xls\",\n",
    "                        usecols=\"A:B,G:O\",skipfooter=1,header=5).rename(columns={\n",
    "                                \"Unnamed: 0\":\"ID\",\n",
    "                                \"Unnamed: 1\":\"Tên vật tư\",\n",
    "                                \"Số lượng\":\"Tổng đầu kỳ\", \n",
    "                                \"Giá trị\":\"Giá trị đầu kỳ\",\n",
    "                                \"Số lượng.1\":\"Tổng nhập\", \n",
    "                                \"Giá trị.1\":\"Giá trị nhập\",\n",
    "                                \"Số lượng.2\":\"Tổng xuất\", \n",
    "                                \"Giá trị.2\":\"Giá trị xuất\",\n",
    "                                \"Số lượng.3\":\"Tổng tồn\", \n",
    "                                \"Giá trị.3\":\"Giá trị tồn\" })\n",
    "\n",
    "\n",
    "data_muahang=pd.read_excel(\"../VACP/Export BRAVO/Sổ chi tiết mua hàng (2).xls\",\n",
    "                                usecols=\"A,C,F,I:J\",skipfooter=1,header=5).rename(columns={\n",
    "                                \"Unnamed: 0\":\"Ngày nhập\",\n",
    "                                \"Unnamed: 2\":\"Nhà cung cấp\",\n",
    "                                \"Unnamed: 5\":\"ID\",\n",
    "                                \"Số lượng\":\"Tổng nhập\", \n",
    "                                \"Đơn giá\":\"Giá nhập\"\n",
    "                                })\n",
    "\n",
    "data_banhang=pd.read_excel(\"../VACP/Export BRAVO/Sổ chi tiết bán hàng.xls\",\n",
    "                        usecols=\"A,C:D,F,H,K:M\",skipfooter=1,header=6).rename(columns={\n",
    "                                \"Unnamed: 0\":\"Ngày bán\",\n",
    "                                \"Unnamed: 2\":\"ID Khách hàng\",\n",
    "                                \"Unnamed: 3\":\"Hãng\",\n",
    "                                \"Unnamed: 5\":\"ID\",\n",
    "                                \"Unnamed: 7\":\"Tên hàng\",\n",
    "                                \"Số lượng\":\"Tổng bán\", \n",
    "                                \"Đơn giá gốc\":\"Đơn giá bán\",\n",
    "                                \"Giá bán\":\"Giá bán giảm\"\n",
    "                                })\n",
    "\n",
    "data_danhmuchanghoa=pd.read_excel(\"../VACP/Python NCC Min/Danh mục vật tư hàng hóa .xls\",usecols=\"A,C:D,M\").rename(columns={\n",
    "                                \"Unnamed: 0\":\"ID Nhóm hàng\",\n",
    "                                \"Unnamed: 2\":\"ID\",\n",
    "                                \"Unnamed: 3\":\"Tên vật tư\",\n",
    "                                \"Unnamed: 12\":\"Hãng SX\"\n",
    "                                }).dropna(subset=['ID','ID Nhóm hàng']).reset_index(drop=True)"
   ]
  },
  {
   "cell_type": "code",
   "execution_count": 3,
   "metadata": {},
   "outputs": [],
   "source": [
    "data_giaban=pd.read_excel(\"../VACP/Export BRAVO/Báo cáo giá bán, tồn kho.xls\",usecols=\"B,C,F\",skipfooter=1,header=4).rename(\n",
    "    columns={\n",
    "        \"Tên sub nhóm\":\"ID Nhóm hàng\",\n",
    "        \"Mã số\":\"ID\"\n",
    "    }\n",
    ").dropna(subset=['ID','ID Nhóm hàng']).reset_index(drop=True)\n",
    " "
   ]
  },
  {
   "cell_type": "code",
   "execution_count": 4,
   "metadata": {},
   "outputs": [],
   "source": [
    "# Giá vốn\n",
    "TransCost=0.05\n",
    "data_nhapxuatton['Giá vốn'] =(1+TransCost)*np.where(data_nhapxuatton[\"Tổng xuất\"]>0,\n",
    "                                        data_nhapxuatton[\"Giá trị xuất\"]/data_nhapxuatton[\"Tổng xuất\"],\n",
    "                                            np.where(data_nhapxuatton[\"Tổng tồn\"]>0,\n",
    "                                                data_nhapxuatton[\"Giá trị tồn\"]/data_nhapxuatton[\"Tổng tồn\"],0\n",
    "\n",
    "                                            )\n",
    ")\n",
    "\n",
    "#Mua hàng giá nhập nhỏ nhất\n",
    "min_mua_hang=data_muahang.groupby([\"ID\"])[\"Giá nhập\"].min()\n",
    "data_muahang_min=data_muahang.merge(min_mua_hang,on=\"ID\",how=\"left\",suffixes=('', '_min'))\n",
    "data_muahang_min=data_muahang_min[data_muahang_min[\"Giá nhập\"]==data_muahang_min[\"Giá nhập_min\"]].drop('Giá nhập_min',axis=1).drop_duplicates(subset=\"ID\",keep='first').reset_index(drop=True)\n",
    "data_muahang_min=data_muahang_min.rename(columns={\"Tổng nhập\":\"Tổng nhập MIN\",\"Giá nhập\":\"Giá nhập MIN\",\"Ngày nhập\":\"Ngày nhập MIN\",\"Nhà cung cấp\":\"Nhà cung cấp MIN\"})\n",
    "\n",
    "#Mua hàng giá nhập gần nhất\n",
    "max_date_muahang=data_muahang.groupby([\"ID\"])[\"Ngày nhập\"].max()\n",
    "data_muahang_latest=data_muahang.merge(max_date_muahang,on=\"ID\",how=\"left\",suffixes=('', '_max'))\n",
    "data_muahang_latest=data_muahang_latest[data_muahang_latest[\"Ngày nhập\"]==data_muahang_latest[\"Ngày nhập_max\"]].drop('Ngày nhập_max',axis=1).drop_duplicates(subset=\"ID\",keep='first').reset_index(drop=True)\n",
    "data_muahang_latest=data_muahang_latest.rename(columns={\"Tổng nhập\":\"Tổng nhập gần đây\",\"Giá nhập\":\"Giá nhập gần đây\",\"Ngày nhập\":\"Ngày nhập gần đây\",\"Nhà cung cấp\":\"Nhà cung cấp gần đây\"})\n",
    "\n",
    "\n",
    "#Bán hàng gần đây\n",
    "max_date_banhang=data_banhang.groupby([\"ID\"])[\"Ngày bán\"].max()\n",
    "data_banhang_latest=data_banhang.merge(max_date_banhang,on=\"ID\",how=\"left\",suffixes=('', '_max'))\n",
    "data_banhang_latest=data_banhang_latest[data_banhang_latest[\"Ngày bán\"]==data_banhang_latest[\"Ngày bán_max\"]].drop('Ngày bán_max',axis=1).drop_duplicates(subset=\"ID\",keep='first').reset_index(drop=True)\n",
    "\n"
   ]
  },
  {
   "cell_type": "code",
   "execution_count": 5,
   "metadata": {},
   "outputs": [],
   "source": [
    "# # Gộp dữ liệu Nhập Xuất Tồn + MUA Min Gân đây+ BÁN\n",
    "data_nhap_mua_ban=data_nhapxuatton.merge(data_giaban[[\"ID\",\"Giá bán\"]],on=\"ID\",how='left').merge(\n",
    "            data_danhmuchanghoa[[\"ID\",\"ID Nhóm hàng\",\"Hãng SX\"]],on=\"ID\",how='left').merge(\n",
    "                            data_muahang_min,on=\"ID\",how='left').merge(\n",
    "                                    data_muahang_latest,on=\"ID\",how='left').merge(\n",
    "                                            data_banhang_latest,on=\"ID\",how='left')\n",
    "                                            \n",
    "\n",
    "\n",
    " "
   ]
  },
  {
   "cell_type": "code",
   "execution_count": 6,
   "metadata": {},
   "outputs": [],
   "source": [
    "\n",
    "# Thuật toán ABC\n",
    "\n",
    "# https://www.kaggle.com/code/dongxy/inventory-management-abc-analysis-python\n",
    "# Phân tích ABC Analysis\n",
    "\n",
    "# create 3 grades A,B,C based on the running percentage (A-60%,B-25%,C-15%)\n",
    "def ABC_segmentation(RunPerc):\n",
    "    if RunPerc > 0 and RunPerc < 0.6:\n",
    "        return 'A'\n",
    "    elif RunPerc >=0.6 and RunPerc < 0.85:\n",
    "        return 'B'\n",
    "    elif RunPerc >=0.85:\n",
    "        return 'C'\n",
    "    \n",
    "    \n",
    "data_nhap_mua_ban=data_nhap_mua_ban.sort_values(\"Giá trị xuất\",ascending=False)\n",
    "\n",
    "#--------------------------- Tỷ trọng giá trị hàng xuất -----------------------------------------\n",
    "# create the column of the running CumCost of the cumulative cost per SKU\n",
    "data_nhap_mua_ban[\"Cum xuất\"]=data_nhap_mua_ban[\"Giá trị xuất\"].cumsum()\n",
    "\n",
    "# create the column of the total sum\n",
    "data_nhap_mua_ban[\"Total xuất\"] = data_nhap_mua_ban[\"Giá trị xuất\"].sum()\n",
    "\n",
    "# create the column of the running percentage \n",
    "data_nhap_mua_ban[\"Tỷ trọng xuất\"] = data_nhap_mua_ban[\"Cum xuất\"]/data_nhap_mua_ban[\"Total xuất\"]\n",
    "\n",
    "\n",
    "# create the column of the class\n",
    "data_nhap_mua_ban['Class'] = data_nhap_mua_ban['Tỷ trọng xuất'].apply(ABC_segmentation)\n"
   ]
  },
  {
   "cell_type": "code",
   "execution_count": 7,
   "metadata": {},
   "outputs": [],
   "source": [
    "data_report=data_nhap_mua_ban[[\n",
    "                    \"ID\",\"Tên vật tư\",\n",
    "                    \"ID Nhóm hàng\",\"Hãng SX\",\n",
    "                    \"Giá vốn\",\"Giá bán\",\"Giá bán giảm\",\n",
    "                    \"Ngày nhập MIN\",\"Nhà cung cấp MIN\",\"Giá nhập MIN\",\"Tổng nhập MIN\"\n",
    "                    \"Ngày nhập gần đây\",\"Nhà cung cấp gần đây\",\"Giá nhập gần đây\",\"Tổng nhập gần đây\",\n",
    "                    \"Ngày bán\",\"Tổng bán\",\n",
    "                    \"Tổng đầu kỳ\",\"Tổng nhập\",\"Tổng xuất\", \"Tổng tồn\",\n",
    "                    \"Giá trị đầu kỳ\",\"Giá trị nhập\",\"Giá trị xuất\",\"Giá trị tồn\",\n",
    "                    \"Class\"\n",
    "                    ]]\n",
    "\n",
    "data_report=data_report.reset_index(drop=True)"
   ]
  },
  {
   "cell_type": "code",
   "execution_count": 8,
   "metadata": {},
   "outputs": [],
   "source": [
    "# data_2022=pd.read_excel(\n",
    "#     \"../VACP/Gửi File cho Chị Phương/Hàng xả 1022.xlsx\",\n",
    "#     sheet_name=\"Năm 2022\"\n",
    "# )\n",
    "\n",
    "# data_2021=pd.read_excel(\n",
    "#     \"../VACP/Gửi File cho Chị Phương/Hàng xả 1022.xlsx\",\n",
    "#     sheet_name=\"Năm 2021\"\n",
    "# )\n",
    "\n",
    "# data_2020=pd.read_excel(\n",
    "#     \"../VACP/Gửi File cho Chị Phương/Hàng xả 1022.xlsx\",\n",
    "#     sheet_name=\"Năm 2020\"\n",
    "# )\n",
    "\n",
    "# data_output=pd.concat([data_2020,data_2021,data_2022]).reset_index(drop=True)"
   ]
  },
  {
   "cell_type": "code",
   "execution_count": 9,
   "metadata": {},
   "outputs": [],
   "source": [
    "# EXPORT FILE DATA\n",
    "with pd.ExcelWriter('../VACP/Input & Export Campaign/Report_Nhap_Mua_Ban.xlsx') as writer:\n",
    "    data_report.to_excel(writer, sheet_name='Nhập Mua Bán')\n",
    "    data_nhap_mua_ban.to_excel(writer,sheet_name='Data Full')\n",
    "    # data_output.to_excel(writer,sheet_name=\"output\")\n",
    "\n"
   ]
  }
 ],
 "metadata": {
  "kernelspec": {
   "display_name": "Python 3.10.7 64-bit",
   "language": "python",
   "name": "python3"
  },
  "language_info": {
   "codemirror_mode": {
    "name": "ipython",
    "version": 3
   },
   "file_extension": ".py",
   "mimetype": "text/x-python",
   "name": "python",
   "nbconvert_exporter": "python",
   "pygments_lexer": "ipython3",
   "version": "3.10.7"
  },
  "orig_nbformat": 4,
  "vscode": {
   "interpreter": {
    "hash": "f6cc984e88e62e349a3d36e7a57a515520ae12055cc10527abcd013d74ecd266"
   }
  }
 },
 "nbformat": 4,
 "nbformat_minor": 2
}
